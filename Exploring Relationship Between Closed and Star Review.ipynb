{
 "cells": [
  {
   "cell_type": "code",
   "execution_count": 1,
   "metadata": {},
   "outputs": [],
   "source": [
    "import pandas as pd\n",
    "import numpy as np\n",
    "import matplotlib.pyplot as plt\n",
    "%matplotlib notebook"
   ]
  },
  {
   "cell_type": "code",
   "execution_count": 3,
   "metadata": {},
   "outputs": [
    {
     "name": "stdout",
     "output_type": "stream",
     "text": [
      "<bound method NDFrame.head of                                                   address  \\\n",
      "0                                       1314 44 Avenue NE   \n",
      "1                                                           \n",
      "2                                     1335 rue Beaubien E   \n",
      "3                                         211 W Monroe St   \n",
      "4                                     2005 Alyth Place SE   \n",
      "5                         20235 N Cave Creek Rd, Ste 1115   \n",
      "6                                          631 Bloor St W   \n",
      "7                             3417 Derry Road E, Unit 103   \n",
      "8                                      1440 N. Dysart Ave   \n",
      "9                                         209 Oakland Ave   \n",
      "10                                       4568 Highway 7 E   \n",
      "11                                     595 Markham Street   \n",
      "12                                        2801 N 15th Ave   \n",
      "13                                4216 Saint-Laurent Boul   \n",
      "14                                      4404 14 Street NW   \n",
      "15                                          1200 37 St SW   \n",
      "16                              438 Place Jacques Cartier   \n",
      "17                                        703 N Rancho Dr   \n",
      "18                                       1549 N Rancho Dr   \n",
      "19                  3940 Martin Luther King Blvd, Ste 101   \n",
      "20                                                          \n",
      "21                                      3040 Carnegie Ave   \n",
      "22                                        4131 N 83rd Ave   \n",
      "23                              746 Street Clair Avenue W   \n",
      "24                                       7745 W Thomas Rd   \n",
      "25                                           1204 Bear Ln   \n",
      "26                                                          \n",
      "27                                    99 Yorkville Avenue   \n",
      "28                              1-905 Britannia Road West   \n",
      "29                                       9525 State Rt 14   \n",
      "...                                                   ...   \n",
      "188563                     180 Steeles Avenue W, Unit 20A   \n",
      "188564                              3165 S Alma School Rd   \n",
      "188565                       110 Cumberland St, Suite 609   \n",
      "188566                              3600 Las Vegas Blvd S   \n",
      "188567                              3049 Las Vegas Blvd S   \n",
      "188568                              3375 S Fort Apache Rd   \n",
      "188569                                                      \n",
      "188570  Caesars Palace Las Vegas Hotel And Casino, 357...   \n",
      "188571                                   3199 Dufferin St   \n",
      "188572                              3475 S Las Vegas Blvd   \n",
      "188573                              3131 S Las Vegas Blvd   \n",
      "188574                              2301 Paseo Verde Pkwy   \n",
      "188575                                    2301 Atwood Ave   \n",
      "188576                                2215 Queen Street E   \n",
      "188577                       10895 S Eastern Ave, Ste 130   \n",
      "188578        11125 S Eastern Ave, Ste 100, Salon Nouveau   \n",
      "188579                           7207 E Independence Blvd   \n",
      "188580                                    4655 Quality Ct   \n",
      "188581                             2990 Bicentennial Pkwy   \n",
      "188582                    3863 S Valley View Blvd, Ste 31   \n",
      "188583                                 4322 W Flamingo Rd   \n",
      "188584                                 6166 W Flamingo Rd   \n",
      "188585                       1402 Queen Street E, Suite D   \n",
      "188586                                                      \n",
      "188587                                   4802 McKnight Rd   \n",
      "188588                          8000 McKnight Rd, Ste 570   \n",
      "188589                                  3341 Babcock Blvd   \n",
      "188590                                    5825 Thunder Rd   \n",
      "188591                            7601 Scott Padgett Pkwy   \n",
      "188592                            3900 Paradise Rd, Ste R   \n",
      "\n",
      "                                               attributes  \\\n",
      "0       {'BikeParking': 'False', 'BusinessAcceptsCredi...   \n",
      "1       {'Alcohol': 'none', 'BikeParking': 'False', 'B...   \n",
      "2       {'Alcohol': 'beer_and_wine', 'Ambience': '{'ro...   \n",
      "3                                                    None   \n",
      "4                  {'BusinessAcceptsCreditCards': 'True'}   \n",
      "5       {'BikeParking': 'True', 'BusinessAcceptsCredit...   \n",
      "6       {'BusinessParking': '{'garage': False, 'street...   \n",
      "7       {'Alcohol': 'none', 'BusinessAcceptsCreditCard...   \n",
      "8       {'Alcohol': 'none', 'Ambience': '{'romantic': ...   \n",
      "9       {'BikeParking': 'True', 'BusinessAcceptsCredit...   \n",
      "10      {'GoodForKids': 'True', 'NoiseLevel': 'loud', ...   \n",
      "11      {'Alcohol': 'full_bar', 'Ambience': '{'romanti...   \n",
      "12      {'Alcohol': 'full_bar', 'Ambience': '{'romanti...   \n",
      "13      {'Alcohol': 'full_bar', 'Ambience': '{'romanti...   \n",
      "14      {'BusinessParking': '{'garage': False, 'street...   \n",
      "15      {'BusinessAcceptsCreditCards': 'True', 'Busine...   \n",
      "16      {'Alcohol': 'full_bar', 'BikeParking': 'True',...   \n",
      "17      {'BusinessAcceptsCreditCards': 'True', 'Busine...   \n",
      "18                                                   None   \n",
      "19      {'BikeParking': 'True', 'BusinessAcceptsCredit...   \n",
      "20                 {'BusinessAcceptsCreditCards': 'True'}   \n",
      "21                                                   None   \n",
      "22      {'Ambience': '{'romantic': False, 'intimate': ...   \n",
      "23      {'BikeParking': 'True', 'BusinessAcceptsCredit...   \n",
      "24      {'BusinessAcceptsCreditCards': 'True', 'GoodFo...   \n",
      "25      {'GoodForKids': 'True', 'RestaurantsGoodForGro...   \n",
      "26      {'BusinessAcceptsCreditCards': 'True', 'ByAppo...   \n",
      "27      {'Ambience': '{'romantic': False, 'intimate': ...   \n",
      "28                                                   None   \n",
      "29      {'BusinessAcceptsCreditCards': 'True', 'Busine...   \n",
      "...                                                   ...   \n",
      "188563  {'GoodForKids': 'True', 'HasTV': 'True', 'Outd...   \n",
      "188564  {'BikeParking': 'False', 'BusinessAcceptsCredi...   \n",
      "188565             {'BusinessAcceptsCreditCards': 'True'}   \n",
      "188566  {'BikeParking': 'False', 'BusinessAcceptsCredi...   \n",
      "188567  {'Ambience': '{'romantic': False, 'intimate': ...   \n",
      "188568             {'BusinessAcceptsCreditCards': 'True'}   \n",
      "188569  {'BikeParking': 'False', 'BusinessAcceptsCredi...   \n",
      "188570  {'Alcohol': 'full_bar', 'Ambience': '{'romanti...   \n",
      "188571  {'Alcohol': 'none', 'Ambience': '{'romantic': ...   \n",
      "188572  {'Alcohol': 'full_bar', 'Ambience': '{'romanti...   \n",
      "188573                           {'GoodForKids': 'False'}   \n",
      "188574  {'Ambience': '{'romantic': False, 'intimate': ...   \n",
      "188575  {'BikeParking': 'True', 'BusinessAcceptsCredit...   \n",
      "188576  {'BusinessAcceptsCreditCards': 'True', 'Busine...   \n",
      "188577  {'Alcohol': 'beer_and_wine', 'Ambience': '{'ro...   \n",
      "188578                                               None   \n",
      "188579  {'BusinessAcceptsCreditCards': 'True', 'ByAppo...   \n",
      "188580  {'BusinessAcceptsCreditCards': 'True', 'ByAppo...   \n",
      "188581                                               None   \n",
      "188582             {'BusinessAcceptsCreditCards': 'True'}   \n",
      "188583  {'BikeParking': 'True', 'BusinessAcceptsCredit...   \n",
      "188584  {'BikeParking': 'True', 'BusinessAcceptsCredit...   \n",
      "188585  {'BikeParking': 'True', 'BusinessParking': '{'...   \n",
      "188586                                 {'Caters': 'True'}   \n",
      "188587                                               None   \n",
      "188588  {'AcceptsInsurance': 'False', 'BusinessAccepts...   \n",
      "188589                                               None   \n",
      "188590  {'BikeParking': 'True', 'BusinessAcceptsCredit...   \n",
      "188591  {'BusinessAcceptsCreditCards': 'True', 'DogsAl...   \n",
      "188592  {'BikeParking': 'True', 'BusinessAcceptsCredit...   \n",
      "\n",
      "                   business_id  \\\n",
      "0       Apn5Q_b6Nz61Tq4XzPdf9A   \n",
      "1       AjEbIBw6ZFfln7ePHha9PA   \n",
      "2       O8S5hYJ1SMc8fA4QBtVujA   \n",
      "3       bFzdJJ3wp3PZssNEsyU23g   \n",
      "4       8USyCYqpScwiNEb58Bt6CA   \n",
      "5       45bWSZtniwPRiqlivpS8Og   \n",
      "6       9A2quhZLyWk0akUetBd8hQ   \n",
      "7       6OuOZAok8ikONMS_T3EzXg   \n",
      "8       8-NRKkPY1UiFXW20WXKiXg   \n",
      "9       UTm5QZThPQlT35mkAcGOjg   \n",
      "10      KapTdGyGs7RK0c68Z6hhhg   \n",
      "11      tZnSodhPwNr4bzrwJ1CSbw   \n",
      "12      _c3ixq9jYKxhLUB0czi0ug   \n",
      "13      bBUMib8l6Me1ZB1_Qkezkg   \n",
      "14      o_zDURWzgt5yM5HW_xGJsg   \n",
      "15      IbTDLI02Sq50C7B-EWK1sg   \n",
      "16      r89Re4FNgVWHgBfjCVZyVw   \n",
      "17      hTzcHtk4-0QJnFUbkKpd5Q   \n",
      "18      UwIpS9UKsPiKAv1fiEYhqg   \n",
      "19      vJIuDBdu01vCA8y1fwR1OQ   \n",
      "20      YZCHr68c5aEVHz0bkq9K2g   \n",
      "21      gJ5xSt6147gkcZ9Es0WxlA   \n",
      "22      3ByGQOVgds2YEu6kzl-XEQ   \n",
      "23      5J3b7j3Fzo9ISjChmoUoUA   \n",
      "24      CeuTRtwsq6w5rztGOyNMPg   \n",
      "25      gsoSAb9t7Ar7Ww6O_3GuOg   \n",
      "26      guRyrKMBDkcHExGzwxSfvg   \n",
      "27      PMDlKLd0Mxj0ngCpuUmE5Q   \n",
      "28      65DAbjsiws2_T600pNpWFQ   \n",
      "29      6YC6CsXRrmPv_iwfvc9onA   \n",
      "...                        ...   \n",
      "188563  eLExQY6_KOYaayapWNp5IQ   \n",
      "188564  DXTsi_ZiRSsDTj3towE2GA   \n",
      "188565  xMdkVHCYYSyw63hab0YTIg   \n",
      "188566  m75vszskLJ1a14Ybco4IaA   \n",
      "188567  0zGeYN8ReYwVj27U7EHOJA   \n",
      "188568  v62o0cbntlpDXYaJtO9Lmw   \n",
      "188569  CorrByydi35r-6SvmhYFHA   \n",
      "188570  K9ukZjvXhDjQZnrrOPqKSw   \n",
      "188571  G8mz50lT484Ak6qP2N-whQ   \n",
      "188572  GdGXb80QKTMRP7AdPHDnuw   \n",
      "188573  JUygwe5d_MXCCOdk0WB30g   \n",
      "188574  eei5BWaI4IG4w_9CUzEl2g   \n",
      "188575  Hl0uVuDXi0IiQu0Qv3uKzg   \n",
      "188576  UGSM0VrExwChdINXpzJ_pw   \n",
      "188577  kbaXNZLUyVuWbeQxH-NNKw   \n",
      "188578  Qh3zSqqgLS-qScpHidp7ag   \n",
      "188579  rOBczAlCZqgL-fA0wEidjA   \n",
      "188580  -3bL-QmK7-qBYLmQuSekBw   \n",
      "188581  iYfHHScIrm9UooevAt-pZA   \n",
      "188582  i3AziW_jq009bm26PLXdLA   \n",
      "188583  FxEoO2etCPrPLFOnGwV-Ww   \n",
      "188584  jYU4Nd71giCWpLuj5JIxgg   \n",
      "188585  Y_7sZoSLTJ-2mNZS8JS5Pg   \n",
      "188586  OAmRh1fSiTgtR1e0D4JsVQ   \n",
      "188587  5qVlB_Qpw6oHWmtzGUview   \n",
      "188588  sMQAZ3DkfrURFoJAyOhjEw   \n",
      "188589  6hvuCibNS4uECetHb9MCQQ   \n",
      "188590  KleCXFYOmdACcQUvf6_XEg   \n",
      "188591  3_fIsSxN2RBovQ_6EFtLzA   \n",
      "188592  NkOvIueadjFUxeCyq_uQEw   \n",
      "\n",
      "                                               categories         city  \\\n",
      "0       Tours, Breweries, Pizza, Restaurants, Food, Ho...      Calgary   \n",
      "1       Chicken Wings, Burgers, Caterers, Street Vendo...    Henderson   \n",
      "2       Breakfast & Brunch, Restaurants, French, Sandw...    MontrÃ©al   \n",
      "3                           Insurance, Financial Services      Phoenix   \n",
      "4       Home & Garden, Nurseries & Gardening, Shopping...      Calgary   \n",
      "5                                      Coffee & Tea, Food      Phoenix   \n",
      "6                                          Food, Bakeries      Toronto   \n",
      "7                                       Restaurants, Thai  Mississauga   \n",
      "8                                    Mexican, Restaurants     Avondale   \n",
      "9                   Flowers & Gifts, Gift Shops, Shopping   Pittsburgh   \n",
      "10                                  Restaurants, Japanese      Markham   \n",
      "11                    Cajun/Creole, Southern, Restaurants      Toronto   \n",
      "12      Bars, Sports Bars, Dive Bars, Burgers, Nightli...      Phoenix   \n",
      "13         Restaurants, Pakistani, Indian, Middle Eastern    MontrÃ©al   \n",
      "14                                 Beauty & Spas, Barbers      Calgary   \n",
      "15                         Delis, Restaurants, Sandwiches      Calgary   \n",
      "16      Nightlife, Bars, American (Traditional), Tapas...    MontrÃ©al   \n",
      "17                   Shopping, Fashion, Department Stores    Las Vegas   \n",
      "18      Financial Services, Check Cashing/Pay-day Loan...    Las Vegas   \n",
      "19      American (Traditional), Food, Bakeries, Restau...    Las Vegas   \n",
      "20      Home Services, Masonry/Concrete, Professional ...    Las Vegas   \n",
      "21                        Fast Food, Burgers, Restaurants    Cleveland   \n",
      "22      Nightlife, Bars, American (Traditional), Sport...      Phoenix   \n",
      "23                           Food, Bakeries, Coffee & Tea      Toronto   \n",
      "24                                   Mexican, Restaurants      Phoenix   \n",
      "25                                   Mexican, Restaurants   Monticello   \n",
      "26       Home Services, Home Automation, Security Systems      Phoenix   \n",
      "27        Restaurants, Food, Canadian (New), Coffee & Tea      Toronto   \n",
      "28      Optometrists, Shopping, Eyewear & Opticians, H...  Mississauga   \n",
      "29                                     Pizza, Restaurants  Streetsboro   \n",
      "...                                                   ...          ...   \n",
      "188563                     Barbeque, Restaurants, Chinese      Vaughan   \n",
      "188564                         Nail Salons, Beauty & Spas     Chandler   \n",
      "188565  Local Services, Professional Services, Carpet ...      Toronto   \n",
      "188566  Eyewear & Opticians, Leather Goods, Shopping, ...    Las Vegas   \n",
      "188567         Delis, Restaurants, American (Traditional)    Las Vegas   \n",
      "188568                       Self Storage, Local Services    Las Vegas   \n",
      "188569  Hair Stylists, Hair Extensions, Hair Salons, B...    Las Vegas   \n",
      "188570  Nightlife, Bars, Shopping, Tobacco Shops, Cock...    Las Vegas   \n",
      "188571              Chicken Wings, Fast Food, Restaurants   North York   \n",
      "188572           Beer Bar, Cocktail Bars, Nightlife, Bars    Las Vegas   \n",
      "188573              Performing Arts, Arts & Entertainment    Las Vegas   \n",
      "188574  Active Life, Arts & Entertainment, Nightlife, ...    Henderson   \n",
      "188575  Music & DVDs, Books, Mags, Music & Video, Shop...      Madison   \n",
      "188576           Shopping, Hardware Stores, Home & Garden      Toronto   \n",
      "188577  American (Traditional), American (New), Restau...    Henderson   \n",
      "188578  Hair Removal, Eyebrow Services, Beauty & Spas,...    Henderson   \n",
      "188579  Banks & Credit Unions, Financial Services, Rea...    Charlotte   \n",
      "188580  Kitchen & Bath, Building Supplies, Home Servic...    Las Vegas   \n",
      "188581  Pet Groomers, Pets, Veterinarians, Pet Sitting...    Henderson   \n",
      "188582  Automotive, Body Shops, Auto Repair, Oil Chang...    Las Vegas   \n",
      "188583  Beauty & Spas, Nail Salons, Active Life, Gyms,...    Las Vegas   \n",
      "188584  Beauty & Spas, Nail Salons, Hair Removal, Waxi...    Las Vegas   \n",
      "188585  Massage, Health & Medical, Yoga, Doulas, Activ...      Toronto   \n",
      "188586  Restaurants, Indian, Caterers, Event Planning ...      Toronto   \n",
      "188587          Auto Repair, Used Car Dealers, Automotive   Pittsburgh   \n",
      "188588        Skin Care, Beauty & Spas, Day Spas, Massage   Pittsburgh   \n",
      "188589  Fashion, Women's Clothing, Accessories, Bridal...   Pittsburgh   \n",
      "188590  Mobile Phones, Shopping, Department Stores, Fo...      Concord   \n",
      "188591  Event Planning & Services, Hotels & Travel, Ho...      Concord   \n",
      "188592  Makeup Artists, Men's Clothing, Swimwear, Shop...    Las Vegas   \n",
      "\n",
      "                                                    hours  is_open   latitude  \\\n",
      "0       {'Monday': '8:30-17:0', 'Tuesday': '11:0-21:0'...        1  51.091813   \n",
      "1       {'Friday': '17:0-23:0', 'Saturday': '17:0-23:0...        0  35.960734   \n",
      "2       {'Monday': '10:0-22:0', 'Tuesday': '10:0-22:0'...        0  45.540503   \n",
      "3                                                    None        1  33.449999   \n",
      "4       {'Monday': '8:0-17:0', 'Tuesday': '8:0-17:0', ...        1  51.035591   \n",
      "5       {'Monday': '5:30-20:0', 'Tuesday': '5:30-20:0'...        1  33.671375   \n",
      "6                                                    None        0  43.664378   \n",
      "7                                                    None        1  43.712946   \n",
      "8       {'Monday': '0:0-0:0', 'Tuesday': '0:0-0:0', 'W...        1  33.448106   \n",
      "9       {'Monday': '9:0-18:0', 'Tuesday': '9:0-18:0', ...        1  40.441421   \n",
      "10      {'Monday': '11:30-23:0', 'Tuesday': '11:30-23:...        0  43.862484   \n",
      "11      {'Tuesday': '17:0-1:0', 'Wednesday': '17:0-1:0...        0  43.664125   \n",
      "12      {'Monday': '11:0-22:0', 'Tuesday': '11:0-22:0'...        1  33.479807   \n",
      "13                                                   None        1  45.518036   \n",
      "14      {'Monday': '9:30-18:0', 'Tuesday': '9:30-18:0'...        1  51.091857   \n",
      "15                                                   None        1  51.042469   \n",
      "16      {'Monday': '11:30-23:0', 'Tuesday': '11:30-23:...        0  45.507699   \n",
      "17                                                   None        1  36.178348   \n",
      "18      {'Monday': '10:0-19:0', 'Tuesday': '10:0-18:0'...        1  36.188386   \n",
      "19      {'Tuesday': '11:0-18:0', 'Wednesday': '11:0-18...        0  36.192284   \n",
      "20                                                   None        1  36.260816   \n",
      "21                                                   None        1  41.499989   \n",
      "22                                                   None        1  33.495298   \n",
      "23      {'Monday': '7:30-19:0', 'Tuesday': '7:30-19:0'...        1  43.681328   \n",
      "24                                                   None        1  33.479671   \n",
      "25      {'Tuesday': '11:0-21:0', 'Wednesday': '11:0-21...        0  40.009328   \n",
      "26      {'Monday': '0:0-0:0', 'Tuesday': '0:0-0:0', 'W...        1  33.431665   \n",
      "27                                                   None        0  43.670885   \n",
      "28      {'Monday': '10:0-21:0', 'Tuesday': '10:0-21:0'...        1  43.609269   \n",
      "29      {'Monday': '11:0-22:0', 'Tuesday': '11:0-22:0'...        1  41.243783   \n",
      "...                                                   ...      ...        ...   \n",
      "188563  {'Monday': '11:0-22:0', 'Tuesday': '11:0-22:0'...        0  43.797454   \n",
      "188564                                               None        1  33.260503   \n",
      "188565                                               None        0  43.653226   \n",
      "188566  {'Monday': '10:0-0:0', 'Tuesday': '10:0-0:0', ...        1  36.113956   \n",
      "188567                                               None        1  36.131516   \n",
      "188568  {'Monday': '9:0-17:30', 'Tuesday': '9:0-17:30'...        1  36.128235   \n",
      "188569  {'Monday': '0:0-0:0', 'Tuesday': '0:0-0:0', 'W...        1  36.128561   \n",
      "188570  {'Monday': '10:0-1:0', 'Tuesday': '10:0-1:0', ...        1  36.116775   \n",
      "188571  {'Monday': '11:0-21:0', 'Tuesday': '11:0-21:0'...        1  43.718455   \n",
      "188572  {'Monday': '10:0-2:30', 'Tuesday': '10:0-2:30'...        1  36.119650   \n",
      "188573  {'Monday': '19:30-21:0', 'Tuesday': '19:30-21:...        0  36.126595   \n",
      "188574  {'Monday': '16:0-21:0', 'Tuesday': '16:0-21:0'...        0  36.022406   \n",
      "188575  {'Monday': '12:0-19:0', 'Tuesday': '12:0-19:0'...        1  43.093412   \n",
      "188576                                               None        1  43.670761   \n",
      "188577  {'Monday': '11:0-21:0', 'Tuesday': '11:0-21:0'...        1  35.993777   \n",
      "188578                                               None        1  35.990302   \n",
      "188579                                               None        1  35.163280   \n",
      "188580  {'Monday': '8:0-17:0', 'Tuesday': '8:0-17:0', ...        1  36.105866   \n",
      "188581  {'Monday': '7:0-20:0', 'Tuesday': '7:0-20:0', ...        1  35.941616   \n",
      "188582  {'Monday': '8:0-18:0', 'Tuesday': '8:0-18:0', ...        1  36.120743   \n",
      "188583  {'Monday': '10:0-18:0', 'Tuesday': '10:0-18:0'...        1  36.114304   \n",
      "188584  {'Monday': '9:30-23:0', 'Tuesday': '9:30-23:0'...        1  36.115367   \n",
      "188585  {'Monday': '9:0-21:0', 'Tuesday': '9:0-21:0', ...        1  43.664756   \n",
      "188586                                               None        0  43.628947   \n",
      "188587  {'Monday': '8:0-17:0', 'Tuesday': '8:0-17:0', ...        1  40.524391   \n",
      "188588  {'Monday': '10:0-21:0', 'Tuesday': '10:0-21:0'...        0  40.551152   \n",
      "188589                                               None        1  40.534242   \n",
      "188590  {'Monday': '0:0-0:0', 'Tuesday': '0:0-0:0', 'W...        1  35.378669   \n",
      "188591  {'Monday': '0:0-0:0', 'Tuesday': '0:0-0:0', 'W...        1  35.364366   \n",
      "188592  {'Tuesday': '11:0-19:0', 'Wednesday': '11:0-19...        1  36.118697   \n",
      "\n",
      "         longitude                                 name  \\\n",
      "0      -114.031675                 Minhas Micro Brewery   \n",
      "1      -114.939821                  CK'S BBQ & Catering   \n",
      "2       -73.599300                        La Bastringue   \n",
      "3      -112.076979                      Geico Insurance   \n",
      "4      -114.027366                        Action Engine   \n",
      "5      -112.030017           The Coffee Bean & Tea Leaf   \n",
      "6       -79.414424                       Bnc Cake House   \n",
      "7       -79.632763                          Thai One On   \n",
      "8      -112.341302             Filiberto's Mexican Food   \n",
      "9       -79.956457              Maggie & Stella's Gifts   \n",
      "10      -79.306960                              Sushi 8   \n",
      "11      -79.411886           Southern Accent Restaurant   \n",
      "12     -112.091188             Original Hamburger Works   \n",
      "13      -73.582174                Mysore Indian Cuisine   \n",
      "14     -114.094625              North Haven Barber Shop   \n",
      "15     -114.139574                  Safeway Food & Drug   \n",
      "16      -73.553407                               Harlow   \n",
      "17     -115.176916                          Citi Trends   \n",
      "18     -115.186124        Nevada Title And Payday Loans   \n",
      "19     -115.159272                           CakesbyToi   \n",
      "20     -115.171130                    Park Stone Pavers   \n",
      "21      -81.666375                   Rally's Hamburgers   \n",
      "22     -112.236076                             Rib Shop   \n",
      "23      -79.427884                       Mabel's Bakery   \n",
      "24     -112.225173                             Salsitas   \n",
      "25      -88.576386                   Los Toros Numero 2   \n",
      "26     -112.102959          ADT Security Services, Inc.   \n",
      "27      -79.392379           The Coffee Mill Restaurant   \n",
      "28      -79.699035                      Laurier Optical   \n",
      "29      -81.356661                     Teresas Pizzeria   \n",
      "...            ...                                  ...   \n",
      "188563  -79.425888                              NCE BBQ   \n",
      "188564 -111.856951                 Chandler Nail and Sp   \n",
      "188565  -79.383184                              Homejoy   \n",
      "188566 -115.173910     Louis Vuitton Las Vegas Bellagio   \n",
      "188567 -115.164565                        American Cafe   \n",
      "188568 -115.298251  Fort Apache Desert Inn Self Storage   \n",
      "188569 -115.171130                     Glammed Up Vegas   \n",
      "188570 -115.175368                Montecristo Cigar Bar   \n",
      "188571  -79.455328  Mary Brown's Famous Chicken & Tater   \n",
      "188572 -115.171428                  Breeze Daiquiri Bar   \n",
      "188573 -115.165365            Steve Wynn's ShowStoppers   \n",
      "188574 -115.091960            Winter's Village Ice Rink   \n",
      "188575  -89.348454                  Sugar Shack Records   \n",
      "188576  -79.295926                       Beach Hardware   \n",
      "188577 -115.101582                           Bell's BBQ   \n",
      "188578 -115.102120                  Aesthetics By Deena   \n",
      "188579  -80.739262                      Bank of America   \n",
      "188580 -115.206215            Impressions Tile & Marble   \n",
      "188581 -115.118942            Inspirada Animal Hospital   \n",
      "188582 -115.192017                    Vegas Auto Repair   \n",
      "188583 -115.193871             Recharge Salon & Fitness   \n",
      "188584 -115.226848                          Aloha Nails   \n",
      "188585  -79.324295                   Toronto Yoga Mamas   \n",
      "188586  -79.394420    Authentic Taste Of Indian Cuisine   \n",
      "188587  -80.004396             Jimmy's On-it Automotive   \n",
      "188588  -80.021213                         Ross Massage   \n",
      "188589  -80.019556                Four Seasons Boutique   \n",
      "188590  -80.724733                  Walmart Supercenter   \n",
      "188591  -80.703454      Residence Inn Charlotte Concord   \n",
      "188592 -115.154269         Tito Jimy Salon and Boutique   \n",
      "\n",
      "                     neighborhood postal_code  review_count  stars state  \n",
      "0                                     T2E 6L6            24    4.0    AB  \n",
      "1                                       89002             3    4.5    NV  \n",
      "2       Rosemont-La Petite-Patrie     H2G 1K7             5    4.0    QC  \n",
      "3                                       85003             8    1.5    AZ  \n",
      "4                                     T2H 0N5             4    2.0    AB  \n",
      "5                                       85024            63    4.0    AZ  \n",
      "6                       Koreatown     M6G 1K8             7    4.0    ON  \n",
      "7                       Ridgewood     L4T 1A8             7    2.0    ON  \n",
      "8                                       85323            40    2.5    AZ  \n",
      "9                         Oakland       15213             3    3.5    PA  \n",
      "10                     Unionville     L3R 1M5            12    1.5    ON  \n",
      "11                     Palmerston     M6G 2L7           146    4.0    ON  \n",
      "12                                      85007           277    4.0    AZ  \n",
      "13             Plateau-Mont-Royal     H2W 1Z3            19    3.5    QC  \n",
      "14                                        T2K             3    4.5    AB  \n",
      "15                                    T3C 1S2             4    2.5    AB  \n",
      "16                    Ville-Marie     H2Y 3B3            12    3.5    QC  \n",
      "17                                      89106             4    4.0    NV  \n",
      "18                                      89106             4    1.0    NV  \n",
      "19                                      89106             3    1.5    NV  \n",
      "20                                      89031            20    5.0    NV  \n",
      "21                        Central       44115             5    3.0    OH  \n",
      "22                                      85033             3    2.5    AZ  \n",
      "23                       Wychwood     M6C 1B5            23    4.0    ON  \n",
      "24                                      85033            14    2.5    AZ  \n",
      "25                                      61856             6    3.5    IL  \n",
      "26                                      85001             4    1.0    AZ  \n",
      "27                      Yorkville     M5R 3K5            25    3.5    ON  \n",
      "28                    East Credit     L5V 2X8             3    1.0    ON  \n",
      "29                                      44241            11    3.0    OH  \n",
      "...                           ...         ...           ...    ...   ...  \n",
      "188563                                L4J 2L1            13    3.5    ON  \n",
      "188564                                  85248             6    2.5    AZ  \n",
      "188565              Downtown Core     M5R 3V5             9    3.5    ON  \n",
      "188566                  The Strip       89109            51    4.0    NV  \n",
      "188567                  The Strip       89109             7    2.5    NV  \n",
      "188568              Spring Valley       89117            18    4.5    NV  \n",
      "188569                  The Strip       89109            59    5.0    NV  \n",
      "188570                  The Strip       89109           108    4.5    NV  \n",
      "188571                                M6A 2T2            20    3.0    ON  \n",
      "188572                  The Strip       89109             5    4.0    NV  \n",
      "188573                  The Strip       89109           109    4.0    NV  \n",
      "188574                     Anthem       89052            28    3.5    NV  \n",
      "188575            Schenk - Atwood       53704             6    2.5    WI  \n",
      "188576                  The Beach     M4E 1E8             3    4.5    ON  \n",
      "188577                     Anthem       89052           447    4.0    NV  \n",
      "188578                     Anthem       89052             5    5.0    NV  \n",
      "188579                                  28227             3    2.0    NC  \n",
      "188580                                  89103             6    4.5    NV  \n",
      "188581                                  89044            54    4.5    NV  \n",
      "188582                                  89103             9    4.5    NV  \n",
      "188583                                  89103            20    4.5    NV  \n",
      "188584                                  89103            76    3.5    NV  \n",
      "188585                Leslieville     M4L 1C9            14    5.0    ON  \n",
      "188586                                    M5V             3    3.0    ON  \n",
      "188587                                  15237             4    3.0    PA  \n",
      "188588                                  15237             9    2.5    PA  \n",
      "188589                                  15237             5    2.0    PA  \n",
      "188590                                  28027            26    3.0    NC  \n",
      "188591                                  28027            19    4.0    NC  \n",
      "188592                   Eastside       89169             8    4.0    NV  \n",
      "\n",
      "[188593 rows x 15 columns]>\n"
     ]
    }
   ],
   "source": [
    "df_unprocessed = pd.read_json(\"yelp_academic_dataset_business.json\", lines=True)\n",
    "print(df_unprocessed.head)"
   ]
  },
  {
   "cell_type": "code",
   "execution_count": 12,
   "metadata": {},
   "outputs": [
    {
     "name": "stdout",
     "output_type": "stream",
     "text": [
      "Index(['address', 'attributes', 'business_id', 'categories', 'city', 'hours',\n",
      "       'is_open', 'latitude', 'longitude', 'name', 'neighborhood',\n",
      "       'postal_code', 'review_count', 'stars', 'state'],\n",
      "      dtype='object')\n"
     ]
    }
   ],
   "source": [
    "print(df_unprocessed.columns)"
   ]
  },
  {
   "cell_type": "code",
   "execution_count": 14,
   "metadata": {},
   "outputs": [
    {
     "data": {
      "text/plain": [
       "0.16960862810390628"
      ]
     },
     "execution_count": 14,
     "metadata": {},
     "output_type": "execute_result"
    }
   ],
   "source": [
    "# percentage of open businesses\n",
    "len(df_unprocessed[df_unprocessed['is_open']==0])/len(df_unprocessed)"
   ]
  },
  {
   "cell_type": "code",
   "execution_count": 13,
   "metadata": {},
   "outputs": [
    {
     "data": {
      "text/plain": [
       "Text(0,0.5,'Total Number of Businesses')"
      ]
     },
     "execution_count": 13,
     "metadata": {},
     "output_type": "execute_result"
    },
    {
     "data": {
      "image/png": "[encoded data removed]",
      "text/plain": [
       "<Figure size 432x288 with 1 Axes>"
      ]
     },
     "metadata": {},
     "output_type": "display_data"
    }
   ],
   "source": [
    "# graphing relationship between open/closed businesses and star rating\n",
    "plt.hist([df_unprocessed[df_unprocessed['is_open']==1].dropna()['stars'].values,\\\n",
    "          df_unprocessed[df_unprocessed['is_open']==0].dropna()['stars'].values],\\\n",
    "        label=['Open','Closed'],color=['k','#c41200'])\n",
    "\n",
    "\n",
    "plt.legend()\n",
    "plt.title('Yelp Stars Histogram',fontsize=14)\n",
    "plt.xlabel('Yelp Star Rating',fontsize=14)\n",
    "plt.ylabel('Total Number of Businesses',fontsize=16)"
   ]
  },
  {
   "cell_type": "markdown",
   "metadata": {},
   "source": [
    "# Most of the businesses in the data are open. 17% of the businesses are closed."
   ]
  },
  {
   "cell_type": "code",
   "execution_count": 11,
   "metadata": {},
   "outputs": [
    {
     "name": "stderr",
     "output_type": "stream",
     "text": [
      "C:\\ProgramData\\Anaconda3\\lib\\site-packages\\matplotlib\\axes\\_axes.py:6462: UserWarning: The 'normed' kwarg is deprecated, and has been replaced by the 'density' kwarg.\n",
      "  warnings.warn(\"The 'normed' kwarg is deprecated, and has been \"\n"
     ]
    },
    {
     "data": {
      "text/plain": [
       "Text(0,0.5,'Integral Value')"
      ]
     },
     "execution_count": 11,
     "metadata": {},
     "output_type": "execute_result"
    },
    {
     "data": {
      "image/png": "[encoded data removed]",
      "text/plain": [
       "<Figure size 432x288 with 1 Axes>"
      ]
     },
     "metadata": {},
     "output_type": "display_data"
    }
   ],
   "source": [
    "# normalizing the above graph\n",
    "plt.hist([df_unprocessed[df_unprocessed['is_open']==1].dropna()['stars'].values,\\\n",
    "          df_unprocessed[df_unprocessed['is_open']==0].dropna()['stars'].values],\\\n",
    "        label=['Open','Closed'],color=['k','#c41200'],normed=True)\n",
    "\n",
    "\n",
    "plt.legend()\n",
    "plt.title('Yelp Stars Histogram')\n",
    "plt.xlabel('Yelp Star Rating')\n",
    "plt.ylabel('Integral Value')"
   ]
  },
  {
   "cell_type": "code",
   "execution_count": 15,
   "metadata": {},
   "outputs": [
    {
     "data": {
      "text/plain": [
       "Text(0,0.5,'Percentages per Category (%)')"
      ]
     },
     "execution_count": 15,
     "metadata": {},
     "output_type": "execute_result"
    },
    {
     "data": {
      "image/png": "[encoded data removed]",
      "text/plain": [
       "<Figure size 432x288 with 1 Axes>"
      ]
     },
     "metadata": {},
     "output_type": "display_data"
    }
   ],
   "source": [
    "# graphing the percentages of stars crossed with open/closed status\n",
    "open_length = len(df_unprocessed[df_unprocessed['is_open']==1].dropna()['stars'])\n",
    "closed_length = len(df_unprocessed[df_unprocessed['is_open']==0].dropna()['stars'])\n",
    "weights = [np.ones(open_length)/open_length,np.ones(closed_length)/closed_length]\n",
    "plt.hist([df_unprocessed[df_unprocessed['is_open']==1].dropna()['stars'].values,\\\n",
    "          df_unprocessed[df_unprocessed['is_open']==0].dropna()['stars'].values],\\\n",
    "        label=['Open','Closed'],color=['k','#c41200'],weights=weights)\n",
    "\n",
    "\n",
    "plt.legend()\n",
    "plt.title('Yelp Stars Histogram Percentages',fontsize=16)\n",
    "plt.xlabel('Yelp Star Rating',fontsize=14)\n",
    "plt.ylabel('Percentages per Category (%)',fontsize=14)"
   ]
  },
  {
   "cell_type": "markdown",
   "metadata": {},
   "source": [
    "# we see an interesting switch here where there are more closed businesses with 2.5, 3, 3.5, and 4 star ratings. There are more businesses with the other ratings that are open. Why is that?"
   ]
  },
  {
   "cell_type": "code",
   "execution_count": 16,
   "metadata": {},
   "outputs": [
    {
     "data": {
      "text/plain": [
       "Text(0.5,0,'Total Number of Reviews')"
      ]
     },
     "execution_count": 16,
     "metadata": {},
     "output_type": "execute_result"
    },
    {
     "data": {
      "image/png": "[encoded data removed]",
      "text/plain": [
       "<Figure size 432x288 with 1 Axes>"
      ]
     },
     "metadata": {},
     "output_type": "display_data"
    }
   ],
   "source": [
    "plt.hist([df_unprocessed[df_unprocessed['is_open']==1].dropna()['review_count'].values,\\\n",
    "          df_unprocessed[df_unprocessed['is_open']==0].dropna()['review_count'].values],\\\n",
    "        label=['Open','Closed'],color=['k','#c41200'],log=True)\n",
    "\n",
    "\n",
    "plt.legend()\n",
    "plt.title('Number of Reviews Histogram')\n",
    "plt.xlabel('Total Number of Reviews')"
   ]
  },
  {
   "cell_type": "markdown",
   "metadata": {},
   "source": [
    "# linear relationship between number of reviews and open/closed status. "
   ]
  },
  {
   "cell_type": "code",
   "execution_count": 31,
   "metadata": {},
   "outputs": [],
   "source": [
    "df_ml = df_unprocessed[['is_open', 'latitude', 'longitude', 'review_count', 'stars']]"
   ]
  },
  {
   "cell_type": "code",
   "execution_count": 20,
   "metadata": {},
   "outputs": [
    {
     "name": "stdout",
     "output_type": "stream",
     "text": [
      "188593\n"
     ]
    }
   ],
   "source": [
    "print(len(df_ml))"
   ]
  },
  {
   "cell_type": "code",
   "execution_count": 32,
   "metadata": {},
   "outputs": [],
   "source": [
    "df_ml_clean = df_ml.dropna(axis = 0)"
   ]
  },
  {
   "cell_type": "code",
   "execution_count": 22,
   "metadata": {},
   "outputs": [
    {
     "name": "stdout",
     "output_type": "stream",
     "text": [
      "188586\n"
     ]
    }
   ],
   "source": [
    "print(len(df_ml_clean))"
   ]
  },
  {
   "cell_type": "code",
   "execution_count": 33,
   "metadata": {},
   "outputs": [
    {
     "name": "stdout",
     "output_type": "stream",
     "text": [
      "0.16960431845418006\n"
     ]
    }
   ],
   "source": [
    "# we lost 7 values by droppign the NaN rows. Let's check if the percentages of closed restaurants has changed.\n",
    "print(len(df_ml_clean[df_ml_clean['is_open']==0])/len(df_ml_clean))"
   ]
  },
  {
   "cell_type": "code",
   "execution_count": 34,
   "metadata": {},
   "outputs": [],
   "source": [
    "# Split in features and target\n",
    "df_ml_features = df_ml_clean.drop('is_open',axis = 1)\n",
    "df_ml_target = df_ml_clean['is_open']"
   ]
  },
  {
   "cell_type": "code",
   "execution_count": 35,
   "metadata": {},
   "outputs": [
    {
     "name": "stdout",
     "output_type": "stream",
     "text": [
      "         latitude   longitude  review_count  stars\n",
      "0       51.091813 -114.031675            24    4.0\n",
      "1       35.960734 -114.939821             3    4.5\n",
      "2       45.540503  -73.599300             5    4.0\n",
      "3       33.449999 -112.076979             8    1.5\n",
      "4       51.035591 -114.027366             4    2.0\n",
      "5       33.671375 -112.030017            63    4.0\n",
      "6       43.664378  -79.414424             7    4.0\n",
      "7       43.712946  -79.632763             7    2.0\n",
      "8       33.448106 -112.341302            40    2.5\n",
      "9       40.441421  -79.956457             3    3.5\n",
      "10      43.862484  -79.306960            12    1.5\n",
      "11      43.664125  -79.411886           146    4.0\n",
      "12      33.479807 -112.091188           277    4.0\n",
      "13      45.518036  -73.582174            19    3.5\n",
      "14      51.091857 -114.094625             3    4.5\n",
      "15      51.042469 -114.139574             4    2.5\n",
      "16      45.507699  -73.553407            12    3.5\n",
      "17      36.178348 -115.176916             4    4.0\n",
      "18      36.188386 -115.186124             4    1.0\n",
      "19      36.192284 -115.159272             3    1.5\n",
      "20      36.260816 -115.171130            20    5.0\n",
      "21      41.499989  -81.666375             5    3.0\n",
      "22      33.495298 -112.236076             3    2.5\n",
      "23      43.681328  -79.427884            23    4.0\n",
      "24      33.479671 -112.225173            14    2.5\n",
      "25      40.009328  -88.576386             6    3.5\n",
      "26      33.431665 -112.102959             4    1.0\n",
      "27      43.670885  -79.392379            25    3.5\n",
      "28      43.609269  -79.699035             3    1.0\n",
      "29      41.243783  -81.356661            11    3.0\n",
      "...           ...         ...           ...    ...\n",
      "188563  43.797454  -79.425888            13    3.5\n",
      "188564  33.260503 -111.856951             6    2.5\n",
      "188565  43.653226  -79.383184             9    3.5\n",
      "188566  36.113956 -115.173910            51    4.0\n",
      "188567  36.131516 -115.164565             7    2.5\n",
      "188568  36.128235 -115.298251            18    4.5\n",
      "188569  36.128561 -115.171130            59    5.0\n",
      "188570  36.116775 -115.175368           108    4.5\n",
      "188571  43.718455  -79.455328            20    3.0\n",
      "188572  36.119650 -115.171428             5    4.0\n",
      "188573  36.126595 -115.165365           109    4.0\n",
      "188574  36.022406 -115.091960            28    3.5\n",
      "188575  43.093412  -89.348454             6    2.5\n",
      "188576  43.670761  -79.295926             3    4.5\n",
      "188577  35.993777 -115.101582           447    4.0\n",
      "188578  35.990302 -115.102120             5    5.0\n",
      "188579  35.163280  -80.739262             3    2.0\n",
      "188580  36.105866 -115.206215             6    4.5\n",
      "188581  35.941616 -115.118942            54    4.5\n",
      "188582  36.120743 -115.192017             9    4.5\n",
      "188583  36.114304 -115.193871            20    4.5\n",
      "188584  36.115367 -115.226848            76    3.5\n",
      "188585  43.664756  -79.324295            14    5.0\n",
      "188586  43.628947  -79.394420             3    3.0\n",
      "188587  40.524391  -80.004396             4    3.0\n",
      "188588  40.551152  -80.021213             9    2.5\n",
      "188589  40.534242  -80.019556             5    2.0\n",
      "188590  35.378669  -80.724733            26    3.0\n",
      "188591  35.364366  -80.703454            19    4.0\n",
      "188592  36.118697 -115.154269             8    4.0\n",
      "\n",
      "[188586 rows x 4 columns]\n"
     ]
    }
   ],
   "source": [
    "print(df_ml_features)"
   ]
  },
  {
   "cell_type": "code",
   "execution_count": 28,
   "metadata": {},
   "outputs": [],
   "source": [
    "# Try different classification techniques\n",
    "from sklearn.model_selection import train_test_split\n",
    "from sklearn.metrics import f1_score\n",
    "from sklearn.metrics import confusion_matrix\n",
    "from sklearn.metrics import roc_curve\n",
    "from sklearn.metrics import precision_score\n",
    "from sklearn.metrics import recall_score\n",
    "from sklearn.linear_model import LogisticRegression\n",
    "from sklearn.naive_bayes import GaussianNB\n",
    "from sklearn.tree import DecisionTreeClassifier\n",
    "from sklearn.tree import export_graphviz\n",
    "from sklearn.ensemble import GradientBoostingClassifier\n",
    "from sklearn.ensemble import RandomForestClassifier\n",
    "\n",
    "clf = LogisticRegression(random_state=0)\n",
    "clf_A = GaussianNB()\n",
    "clf_B = DecisionTreeClassifier(random_state=1)\n",
    "clf_C = GradientBoostingClassifier(random_state=1)\n",
    "clf_D = RandomForestClassifier(random_state=1)"
   ]
  },
  {
   "cell_type": "code",
   "execution_count": 36,
   "metadata": {},
   "outputs": [],
   "source": [
    "# Let's split the dataset on training and test set and then apply check how the above algorithms perform.\n",
    "X_train, X_test, y_train, y_test = train_test_split(df_ml_features, df_ml_target, test_size = 0.2, random_state = 10,\\\n",
    "                                                    stratify = df_ml_target)"
   ]
  },
  {
   "cell_type": "code",
   "execution_count": 37,
   "metadata": {},
   "outputs": [
    {
     "name": "stdout",
     "output_type": "stream",
     "text": [
      "Accuracy:  0.8303992788589003\n",
      "Precision:  0.8303992788589003\n",
      "Recall:  1.0\n",
      "F1 Score:  0.9073422268572836\n",
      "Confusion Matrix: \n",
      " [[    0  6397]\n",
      " [    0 31321]]\n"
     ]
    }
   ],
   "source": [
    "clf.fit(X_train,list(y_train.values))\n",
    "y_pred = clf.predict(X_test)\n",
    "print('Accuracy: ',clf.score(X_test,list(y_test.values)))\n",
    "print('Precision: ',precision_score(list(y_test.values),y_pred))\n",
    "print('Recall: ',recall_score(list(y_test.values),y_pred))\n",
    "print('F1 Score: ',f1_score(list(y_test.values),y_pred))\n",
    "print('Confusion Matrix: \\n',confusion_matrix(list(y_test.values), y_pred))"
   ]
  },
  {
   "cell_type": "code",
   "execution_count": 38,
   "metadata": {},
   "outputs": [
    {
     "name": "stdout",
     "output_type": "stream",
     "text": [
      "Accuracy:  0.8303992788589003\n",
      "Precision:  0.8303992788589003\n",
      "Recall:  1.0\n",
      "F1 Score:  0.9073422268572836\n",
      "Confusion Matrix: \n",
      " [[    0  6397]\n",
      " [    0 31321]]\n"
     ]
    }
   ],
   "source": [
    "clf_A.fit(X_train,list(y_train.values))\n",
    "y_pred_A = clf_A.predict(X_test)\n",
    "print('Accuracy: ',clf_A.score(X_test,list(y_test.values)))\n",
    "print('Precision: ',precision_score(list(y_test.values),y_pred_A))\n",
    "print('Recall: ',recall_score(list(y_test.values),y_pred_A))\n",
    "print('F1 Score: ',f1_score(list(y_test.values),y_pred_A))\n",
    "print('Confusion Matrix: \\n',confusion_matrix(list(y_test.values), y_pred_A))"
   ]
  },
  {
   "cell_type": "code",
   "execution_count": 39,
   "metadata": {},
   "outputs": [
    {
     "name": "stdout",
     "output_type": "stream",
     "text": [
      "Accuracy:  0.7366244233522456\n",
      "Precision:  0.8460567619170901\n",
      "Recall:  0.8347115353915903\n",
      "F1 Score:  0.8403458583780656\n",
      "Confusion Matrix: \n",
      " [[ 1640  4757]\n",
      " [ 5177 26144]]\n"
     ]
    }
   ],
   "source": [
    "clf_B.fit(X_train,list(y_train.values))\n",
    "y_pred_B = clf_B.predict(X_test)\n",
    "print('Accuracy: ',clf_B.score(X_test,list(y_test.values)))\n",
    "print('Precision: ',precision_score(list(y_test.values),y_pred_B))\n",
    "print('Recall: ',recall_score(list(y_test.values),y_pred_B))\n",
    "print('F1 Score: ',f1_score(list(y_test.values),y_pred_B))\n",
    "print('Confusion Matrix: \\n',confusion_matrix(list(y_test.values), y_pred_B))"
   ]
  },
  {
   "cell_type": "code",
   "execution_count": 40,
   "metadata": {},
   "outputs": [
    {
     "name": "stdout",
     "output_type": "stream",
     "text": [
      "Accuracy:  0.8303992788589003\n",
      "Precision:  0.8303992788589003\n",
      "Recall:  1.0\n",
      "F1 Score:  0.9073422268572836\n",
      "Confusion Matrix: \n",
      " [[    0  6397]\n",
      " [    0 31321]]\n"
     ]
    }
   ],
   "source": [
    "clf_C.fit(X_train,list(y_train.values))\n",
    "y_pred_C = clf_C.predict(X_test)\n",
    "print('Accuracy: ',clf_C.score(X_test,list(y_test.values)))\n",
    "print('Precision: ',precision_score(list(y_test.values),y_pred_C))\n",
    "print('Recall: ',recall_score(list(y_test.values),y_pred_C))\n",
    "print('F1 Score: ',f1_score(list(y_test.values),y_pred_C))\n",
    "print('Confusion Matrix: \\n',confusion_matrix(list(y_test.values), y_pred_C))"
   ]
  },
  {
   "cell_type": "code",
   "execution_count": 41,
   "metadata": {},
   "outputs": [
    {
     "name": "stdout",
     "output_type": "stream",
     "text": [
      "Accuracy:  0.7888806405429768\n",
      "Precision:  0.8435606283461787\n",
      "Recall:  0.9155518661600843\n",
      "F1 Score:  0.878083135573758\n",
      "Confusion Matrix: \n",
      " [[ 1079  5318]\n",
      " [ 2645 28676]]\n"
     ]
    }
   ],
   "source": [
    "clf_D.fit(X_train,list(y_train.values))\n",
    "y_pred_D = clf_D.predict(X_test)\n",
    "print('Accuracy: ',clf_D.score(X_test,list(y_test.values)))\n",
    "print('Precision: ',precision_score(list(y_test.values),y_pred_D))\n",
    "print('Recall: ',recall_score(list(y_test.values),y_pred_D))\n",
    "print('F1 Score: ',f1_score(list(y_test.values),y_pred_D))\n",
    "print('Confusion Matrix: \\n',confusion_matrix(list(y_test.values), y_pred_D))"
   ]
  },
  {
   "cell_type": "code",
   "execution_count": 42,
   "metadata": {},
   "outputs": [
    {
     "data": {
      "text/plain": [
       "<matplotlib.legend.Legend at 0x13b240e45c0>"
      ]
     },
     "execution_count": 42,
     "metadata": {},
     "output_type": "execute_result"
    },
    {
     "data": {
      "image/png": "[encoded data removed]",
      "text/plain": [
       "<Figure size 432x288 with 1 Axes>"
      ]
     },
     "metadata": {},
     "output_type": "display_data"
    }
   ],
   "source": [
    "# For better comparison between the models let's draw the ROC curves\n",
    "y_score = clf.decision_function(X_test)\n",
    "y_score_A = clf_A.predict_proba(X_test)[:,1]\n",
    "y_score_B = clf_B.predict_proba(X_test)[:,1]\n",
    "y_score_C = clf_C.decision_function(X_test)\n",
    "y_score_D = clf_D.predict_proba(X_test)[:,1]\n",
    "fpr, tpr, _ = roc_curve(y_test.values,y_score)\n",
    "fpr_A, tpr_A, _ = roc_curve(y_test.values,y_score_A)\n",
    "fpr_B, tpr_B, _ = roc_curve(y_test.values,y_score_B)\n",
    "fpr_C, tpr_C, _ = roc_curve(y_test.values,y_score_C)\n",
    "fpr_D, tpr_D, _ = roc_curve(y_test.values,y_score_D)\n",
    "plt.plot([0,1],[0,1],'k--')\n",
    "\n",
    "plt.plot(fpr,tpr,label='Logistic Regression')\n",
    "plt.plot(fpr_A,tpr_A,label='Gaussian NB')\n",
    "plt.plot(fpr_B,tpr_B,label='Decision Tree')\n",
    "plt.plot(fpr_C,tpr_C,label='Gradient Boosting')\n",
    "plt.plot(fpr_D,tpr_D,label='Random Forest')\n",
    "\n",
    "plt.xlim([0.0, 1.0])\n",
    "plt.ylim([0.0, 1.05])\n",
    "plt.title('ROC Curves')\n",
    "plt.xlabel('False Positive Rate')\n",
    "plt.ylabel('True Positive Rate')\n",
    "plt.legend()"
   ]
  },
  {
   "cell_type": "code",
   "execution_count": 43,
   "metadata": {},
   "outputs": [
    {
     "data": {
      "text/plain": [
       "<matplotlib.legend.Legend at 0x13b24106eb8>"
      ]
     },
     "execution_count": 43,
     "metadata": {},
     "output_type": "execute_result"
    },
    {
     "data": {
      "image/png": "[encoded data removed]",
      "text/plain": [
       "<Figure size 432x288 with 1 Axes>"
      ]
     },
     "metadata": {},
     "output_type": "display_data"
    }
   ],
   "source": [
    "fpr_D, tpr_D, _ = roc_curve(y_test.values,y_score)\n",
    "fpr_C, tpr_C, _ = roc_curve(y_test.values,y_score_C)\n",
    "\n",
    "plt.plot([0,1],[0,1],'k--')\n",
    "\n",
    "plt.plot(fpr_D,tpr_D,label='Random Forest')\n",
    "\n",
    "plt.plot(fpr_C,tpr_C,label='Gradient Boosting')\n",
    "\n",
    "\n",
    "plt.xlim([0.0, 1.0])\n",
    "plt.ylim([0.0, 1.05])\n",
    "plt.title('ROC Curves')\n",
    "plt.xlabel('False Positive Rate')\n",
    "plt.ylabel('True Positive Rate')\n",
    "plt.legend()"
   ]
  },
  {
   "cell_type": "code",
   "execution_count": 44,
   "metadata": {},
   "outputs": [
    {
     "name": "stdout",
     "output_type": "stream",
     "text": [
      "Feature ranking:\n",
      "1. feature: longitude (0.393116)\n",
      "2. feature: latitude (0.391470)\n",
      "3. feature: review_count (0.154797)\n",
      "4. feature: stars (0.060618)\n"
     ]
    }
   ],
   "source": [
    "# Let's rank the features in terms of importance\n",
    "importances = clf_D.feature_importances_\n",
    "std = np.std([tree.feature_importances_ for tree in clf_D.estimators_],axis=0)\n",
    "indices = np.argsort(importances)[::-1]\n",
    "# Print the feature ranking\n",
    "print(\"Feature ranking:\")\n",
    "\n",
    "for f in range(X_test.shape[1]):\n",
    "    print(\"%d. feature: %s (%f)\" % (f + 1, df_ml_features.iloc[:,indices[f]].name, importances[indices[f]]))\n",
    "    #print(\"%d. feature: %s (%f)\" % (f + 1, df_ml_features.columns[indices[f]], importances[indices[f]]))"
   ]
  },
  {
   "cell_type": "code",
   "execution_count": 46,
   "metadata": {},
   "outputs": [
    {
     "name": "stdout",
     "output_type": "stream",
     "text": [
      "Index(['latitude', 'longitude', 'review_count', 'stars'], dtype='object')\n"
     ]
    }
   ],
   "source": [
    "print(df_ml_features.columns)"
   ]
  },
  {
   "cell_type": "code",
   "execution_count": 47,
   "metadata": {},
   "outputs": [
    {
     "data": {
      "text/plain": [
       "4"
      ]
     },
     "execution_count": 47,
     "metadata": {},
     "output_type": "execute_result"
    }
   ],
   "source": [
    "# Labels to be used for feature importance, same order as column labels\n",
    "labels = ['latitude', 'longitude', 'review_count', 'stars']\n",
    "len(labels)"
   ]
  },
  {
   "cell_type": "code",
   "execution_count": 48,
   "metadata": {},
   "outputs": [
    {
     "data": {
      "text/plain": [
       "(-1, 4)"
      ]
     },
     "execution_count": 48,
     "metadata": {},
     "output_type": "execute_result"
    },
    {
     "data": {
      "image/png": "[encoded data removed]",
      "text/plain": [
       "<Figure size 720x504 with 1 Axes>"
      ]
     },
     "metadata": {},
     "output_type": "display_data"
    }
   ],
   "source": [
    "# Random forest\n",
    "plt.figure(figsize=(10,7))\n",
    "plt.title(\"Feature importance\")\n",
    "plt.barh(range(X_test.shape[1]), importances[indices],\n",
    "       color=\"#c41200\", xerr=std[indices], align=\"center\")\n",
    "#plt.yticks(range(X_test.shape[1]), df_ml_features.iloc[:,indices].columns)\n",
    "plt.yticks(range(X_test.shape[1]), [labels[i] for i in indices])\n",
    "plt.ylim([-1, X_test.shape[1]])"
   ]
  },
  {
   "cell_type": "code",
   "execution_count": 49,
   "metadata": {},
   "outputs": [
    {
     "name": "stdout",
     "output_type": "stream",
     "text": [
      "Feature ranking:\n",
      "1. feature: longitude (0.405156)\n",
      "2. feature: latitude (0.239481)\n",
      "3. feature: stars (0.213337)\n",
      "4. feature: review_count (0.142026)\n"
     ]
    }
   ],
   "source": [
    "# Gradient Boosting importances\n",
    "importances2 = clf_C.feature_importances_\n",
    "#std2 = np.std([tree.feature_importances_ for tree in clf_C.estimators_],axis=0)\n",
    "indices2 = np.argsort(importances2)[::-1]\n",
    "# Print the feature ranking\n",
    "print(\"Feature ranking:\")\n",
    "\n",
    "for f in range(X_test.shape[1]):\n",
    "    print(\"%d. feature: %s (%f)\" % (f + 1, df_ml_features.iloc[:,indices2[f]].name, importances2[indices2[f]]))\n",
    "    #print(\"%d. feature: %s (%f)\" % (f + 1, df_ml_features.columns[indices[f]], importances[indices[f]]))"
   ]
  },
  {
   "cell_type": "code",
   "execution_count": 50,
   "metadata": {},
   "outputs": [
    {
     "data": {
      "text/plain": [
       "(-1, 4)"
      ]
     },
     "execution_count": 50,
     "metadata": {},
     "output_type": "execute_result"
    },
    {
     "data": {
      "image/png": "[encoded data removed]",
      "text/plain": [
       "<Figure size 720x504 with 1 Axes>"
      ]
     },
     "metadata": {},
     "output_type": "display_data"
    }
   ],
   "source": [
    "# Gradient boosting\n",
    "% matplotlib inline\n",
    "plt.figure(figsize=(10,7))\n",
    "plt.title(\"Feature importance\")\n",
    "plt.barh(range(X_test.shape[1]), importances2[indices2],\n",
    "       color=\"#c41200\", align=\"center\")\n",
    "#plt.yticks(range(X_test.shape[1]), df_ml_features.iloc[:,indices].columns)\n",
    "plt.yticks(range(X_test.shape[1]), [labels[i] for i in indices2])\n",
    "plt.ylim([-1, X_test.shape[1]])"
   ]
  },
  {
   "cell_type": "markdown",
   "metadata": {},
   "source": [
    "latitude and longitude seem to play pretty important parts in this. let's see if we can't parse this out a bit"
   ]
  },
  {
   "cell_type": "code",
   "execution_count": null,
   "metadata": {},
   "outputs": [],
   "source": []
  }
 ],
 "metadata": {
  "kernelspec": {
   "display_name": "Python 3",
   "language": "python",
   "name": "python3"
  },
  "language_info": {
   "codemirror_mode": {
    "name": "ipython",
    "version": 3
   },
   "file_extension": ".py",
   "mimetype": "text/x-python",
   "name": "python",
   "nbconvert_exporter": "python",
   "pygments_lexer": "ipython3",
   "version": "3.6.5"
  }
 },
 "nbformat": 4,
 "nbformat_minor": 2
}
